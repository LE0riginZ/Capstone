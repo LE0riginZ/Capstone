{
 "cells": [
  {
   "cell_type": "markdown",
   "metadata": {},
   "source": [
    "<h3>Import packages</h3>"
   ]
  },
  {
   "cell_type": "code",
   "execution_count": 1,
   "metadata": {},
   "outputs": [],
   "source": [
    "from datetime import date\n",
    "from timeit import default_timer as timer\n",
    "import numpy as np\n",
    "import tensorflow as tf\n",
    "from tensorflow import keras\n",
    "from tensorflow.keras.preprocessing.image import ImageDataGenerator, load_img\n",
    "from keras.models import load_model\n",
    "from keras.callbacks import EarlyStopping\n",
    "from sklearn.metrics import confusion_matrix, classification_report\n",
    "import itertools\n",
    "import os\n",
    "import shutil\n",
    "import random\n",
    "import matplotlib.pyplot as plt\n",
    "%matplotlib inline"
   ]
  },
  {
   "cell_type": "markdown",
   "metadata": {},
   "source": [
    "<h3>Load Model</h3>"
   ]
  },
  {
   "cell_type": "code",
   "execution_count": 2,
   "metadata": {},
   "outputs": [],
   "source": [
    "model = load_model('Saved Models/8 cat/mobilenet_84p(90_10_split).h5')"
   ]
  },
  {
   "cell_type": "markdown",
   "metadata": {},
   "source": [
    "<h3>Create train and test folder</h3>"
   ]
  },
  {
   "cell_type": "code",
   "execution_count": 3,
   "metadata": {},
   "outputs": [],
   "source": [
    "#creates a folder each time the set of code is run to sort dataset into train and test\n",
    "day = date.today()\n",
    "formatDate = day.strftime(\"%b-%d-%Y\")\n",
    "\n",
    "#create folder with current date to group predictions ran in a day together, if it does not exists\n",
    "if os.path.isdir('Prediction (' + formatDate + ')') is False:\n",
    "    folder = os.mkdir('Prediction (' + formatDate + ')')\n",
    "folder = 'Prediction (' + formatDate + ')'\n",
    "\n",
    "#looping through to find if destination folder exists\n",
    "i = 1\n",
    "while True:\n",
    "    if os.path.isdir(folder + '/Battery Images - ' + str(i)) is False:\n",
    "        break\n",
    "    i += 1\n",
    "\n",
    "#destination path for unsorted folder\n",
    "destination = folder + '/Battery Images - ' + str(i)\n",
    "\n",
    "#source path for unsorted folder\n",
    "# source = 'Battery Images/'\n",
    "# source = 'Battery Images [Old]/'\n",
    "# source = 'Battery Images [StreamLined]/'\n",
    "source = 'Battery Images [Download]/'\n",
    "\n",
    "#duplicate the unsorted folder from source to destination\n",
    "shutil.copytree(source, destination)\n",
    "\n",
    "os.mkdir(destination + '/train')\n",
    "os.mkdir(destination + '/test')"
   ]
  },
  {
   "cell_type": "markdown",
   "metadata": {},
   "source": [
    "<h3>Sort dataset into train and test folder</h3>"
   ]
  },
  {
   "cell_type": "code",
   "execution_count": 4,
   "metadata": {},
   "outputs": [],
   "source": [
    "#function to split images into training (80%) and testing (20%) and return both\n",
    "def split(data):\n",
    "    # num = int(len(data) * 0.8)\n",
    "    num = int(len(data) * 0.9) #90/10 split\n",
    "#     num = int(len(data) * 0.7) #70/30 split\n",
    "    random.shuffle(data)\n",
    "    return data[:num], data[num:]\n",
    "\n",
    "dir = os.chdir(destination)\n",
    "for category in os.listdir(dir):\n",
    "    #skip the iteration if folder is \"train\" or \"test\"\n",
    "    skip = ['train', 'test']\n",
    "    if category in skip:\n",
    "        continue\n",
    "    \n",
    "    shutil.move(f'{category}', 'train')\n",
    "    #create a subfolder with the same name in test\n",
    "    os.mkdir(f'test/{category}')\n",
    "\n",
    "    #get the images in each folder (battery type) for spltting of data into training and testing\n",
    "    img = os.listdir(f'train/{category}')\n",
    "    training, testing = split(img)\n",
    "    \n",
    "    for file in testing:\n",
    "        shutil.move(f'train/{category}/{file}', f'test/{category}')"
   ]
  },
  {
   "cell_type": "markdown",
   "metadata": {},
   "source": [
    "<h3>Process data</h3>"
   ]
  },
  {
   "cell_type": "code",
   "execution_count": 5,
   "metadata": {},
   "outputs": [
    {
     "name": "stdout",
     "output_type": "stream",
     "text": [
      "Found 691 images belonging to 8 classes.\n",
      "Found 73 images belonging to 8 classes.\n",
      "Found 89 images belonging to 8 classes.\n"
     ]
    }
   ],
   "source": [
    "train_path = 'train'\n",
    "test_path = 'test'\n",
    "\n",
    "#for data augmentation on training data\n",
    "datagen = ImageDataGenerator(\n",
    "    preprocessing_function=tf.keras.applications.mobilenet.preprocess_input,\n",
    "    # validation_split=0.2,\n",
    "    validation_split=0.1, #changes made for 90/10 split\n",
    "    rotation_range = 10,  # randomly rotate images in the range (degrees, 0 to 180)\n",
    "    zoom_range = 0.2, # Randomly zoom image \n",
    "    width_shift_range = 0.1,  # randomly shift images horizontally (fraction of total width)\n",
    "    height_shift_range = 0.1,  # randomly shift images vertically (fraction of total height)\n",
    "    horizontal_flip = True,  # randomly flip images\n",
    "#     vertical_flip = False,    # randomly flip images\n",
    "    vertical_flip = True, #include vertical flip for better generalisation\n",
    "    )  \n",
    "\n",
    "#takes images from directory path and generates batches of augmented data\n",
    "train = datagen.flow_from_directory(\n",
    "    directory=train_path,\n",
    "    target_size=(224, 224),\n",
    "    batch_size=32,\n",
    "    subset='training',\n",
    "        shuffle = False)\n",
    "\n",
    "#for validation data\n",
    "# validation_batches = ImageDataGenerator(preprocessing_function=tf.keras.applications.mobilenet.preprocess_input, \n",
    "#                                         validation_split=0.2)\n",
    "validation_batches = ImageDataGenerator(preprocessing_function=tf.keras.applications.mobilenet.preprocess_input, \n",
    "                                        validation_split=0.1) #changes made for 90/10 split\n",
    "\n",
    "\n",
    "validation = validation_batches.flow_from_directory(\n",
    "    directory=train_path,\n",
    "    target_size=(224, 224),\n",
    "    batch_size=32,\n",
    "    subset='validation',\n",
    "        shuffle = False)\n",
    "\n",
    "#for test data\n",
    "test = ImageDataGenerator(preprocessing_function=tf.keras.applications.mobilenet.preprocess_input)\\\n",
    ".flow_from_directory(directory=test_path, target_size=(224,224), batch_size=32, shuffle=False)"
   ]
  },
  {
   "cell_type": "markdown",
   "metadata": {},
   "source": [
    "<h3>Evaluate Test data</h3>"
   ]
  },
  {
   "cell_type": "code",
   "execution_count": 6,
   "metadata": {},
   "outputs": [
    {
     "name": "stderr",
     "output_type": "stream",
     "text": [
      "c:\\Users\\ngden\\anaconda3\\lib\\site-packages\\PIL\\Image.py:996: UserWarning: Palette images with Transparency expressed in bytes should be converted to RGBA images\n",
      "  warnings.warn(\n"
     ]
    },
    {
     "name": "stdout",
     "output_type": "stream",
     "text": [
      "3/3 [==============================] - 6s 807ms/step - loss: 0.0179 - accuracy: 1.0000\n",
      "\n",
      "Test Loss: 0.017916910350322723\n",
      "Test Accuracy: 1.0\n",
      "\n"
     ]
    }
   ],
   "source": [
    "testLoss, testAcc = model.evaluate(test)\n",
    "print('''\n",
    "Test Loss: {}\n",
    "Test Accuracy: {}\n",
    "'''.format(testLoss, testAcc))"
   ]
  },
  {
   "cell_type": "markdown",
   "metadata": {},
   "source": [
    "<h3>Classification report</h3>"
   ]
  },
  {
   "cell_type": "code",
   "execution_count": 7,
   "metadata": {
    "scrolled": true
   },
   "outputs": [
    {
     "name": "stdout",
     "output_type": "stream",
     "text": [
      "              precision    recall  f1-score   support\n",
      "\n",
      "    Duracell       1.00      1.00      1.00        14\n",
      "   Energizer       1.00      1.00      1.00        14\n",
      "    Eveready       1.00      1.00      1.00        10\n",
      "       Exell       1.00      1.00      1.00         9\n",
      "          GP       1.00      1.00      1.00        12\n",
      "        Ikea       1.00      1.00      1.00         9\n",
      "      Klarus       1.00      1.00      1.00        11\n",
      "   Panasonic       1.00      1.00      1.00        10\n",
      "\n",
      "    accuracy                           1.00        89\n",
      "   macro avg       1.00      1.00      1.00        89\n",
      "weighted avg       1.00      1.00      1.00        89\n",
      "\n"
     ]
    }
   ],
   "source": [
    "predictions = model.predict(test, verbose=0)\n",
    "# predictions = predictions.reshape(1,-1)[0]\n",
    "lst = np.argmax(predictions, axis= 1)\n",
    "\n",
    "print(classification_report(test.classes, lst, target_names = test.class_indices))"
   ]
  },
  {
   "cell_type": "markdown",
   "metadata": {},
   "source": [
    "<h3>Confusion matrix</h3>"
   ]
  },
  {
   "cell_type": "code",
   "execution_count": 8,
   "metadata": {},
   "outputs": [
    {
     "name": "stdout",
     "output_type": "stream",
     "text": [
      "[[14  0  0  0  0  0  0  0]\n",
      " [ 0 14  0  0  0  0  0  0]\n",
      " [ 0  0 10  0  0  0  0  0]\n",
      " [ 0  0  0  9  0  0  0  0]\n",
      " [ 0  0  0  0 12  0  0  0]\n",
      " [ 0  0  0  0  0  9  0  0]\n",
      " [ 0  0  0  0  0  0 11  0]\n",
      " [ 0  0  0  0  0  0  0 10]]\n"
     ]
    },
    {
     "data": {
      "image/png": "[encoded data removed]",
      "text/plain": [
       "<Figure size 700x700 with 2 Axes>"
      ]
     },
     "metadata": {},
     "output_type": "display_data"
    }
   ],
   "source": [
    "result = confusion_matrix(test.classes, lst)\n",
    "print(result)\n",
    "\n",
    "def plot_confusion_matrix(result, classes, cmap=plt.cm.Blues):\n",
    "    plt.subplots(figsize=(7, 7))\n",
    "    plt.imshow(result, interpolation='nearest', cmap=cmap)\n",
    "    plt.title('Confusion matrix')\n",
    "    plt.colorbar()\n",
    "    tick_marks = np.arange(len(classes))\n",
    "    plt.xticks(tick_marks, classes, rotation = 90)\n",
    "    plt.yticks(tick_marks, classes)\n",
    "    plt.ylabel('True label')\n",
    "    plt.xlabel('Predicted label')\n",
    "   \n",
    "\n",
    "    thresh = result.max() / 2.\n",
    "    for i, j in itertools.product(range(result.shape[0]), range(result.shape[1])):\n",
    "        plt.text(j, i, result[i, j],\n",
    "            horizontalalignment=\"center\",\n",
    "            color = \"white\" if result[i, j] > thresh else \"black\")\n",
    "        \n",
    "    #current matplotlib version will cut off top and bottom of the matrix, \n",
    "    #hence the manual workaround - remove if matplotlib version does not cut off\n",
    "    b, t = plt.ylim() # discover bottom and top values\n",
    "    b += 0.5 # Add 0.5 to bottom\n",
    "    t -= 0.5 # Subtract 0.5 from top\n",
    "    plt.ylim(b, t) # update ylim(bottom, top) values\n",
    "    plt.show()\n",
    "    \n",
    "plot_confusion_matrix(result, list(test.class_indices.keys()))"
   ]
  },
  {
   "cell_type": "markdown",
   "metadata": {},
   "source": [
    "<h3>Labels of wrong predictions</h3>"
   ]
  },
  {
   "cell_type": "code",
   "execution_count": 9,
   "metadata": {},
   "outputs": [],
   "source": [
    "def getErrors(test, predictions):\n",
    "    #get file names of all images in test data\n",
    "    names = test.filenames\n",
    "\n",
    "    #get IDs of all classes\n",
    "    allClassesID = test.classes\n",
    "\n",
    "    #get dictionary of classes and respective ID\n",
    "    classLabelDict = test.class_indices\n",
    "    \n",
    "    #list of the names of all classes\n",
    "    classLabels = list(classLabelDict.keys())\n",
    "\n",
    "    print(\"The list of classes: \", classLabels)\n",
    "\n",
    "    #get the most predicted class\n",
    "    predictedClasses = np.argmax(predictions, axis=1)\n",
    "\n",
    "    predictedErrors = np.where(predictedClasses != allClassesID)[0]\n",
    "\n",
    "    print(\"Number of errors = {}/{}\".format(len(predictedErrors),test.samples))\n",
    "\n",
    "    return classLabels, predictedErrors, names\n",
    "\n",
    "def showErrors(classLabels, predictedErrors, predictions, names):\n",
    "    # Show the errors\n",
    "    for i in range(len(errors)):\n",
    "        predictedClass = np.argmax(predictions[predictedErrors[i]])\n",
    "\n",
    "        predictedLabel = classLabels[predictedClass]\n",
    "\n",
    "        title = 'Original Picture : {}, Prediction : {}, Confidence/Percentage : {:.3f}'.format\\\n",
    "                (names[predictedErrors[i]].split('/')[0],predictedLabel, predictions[errors[i]][predictedClass])\n",
    "        print(title)"
   ]
  },
  {
   "cell_type": "code",
   "execution_count": 10,
   "metadata": {},
   "outputs": [
    {
     "name": "stdout",
     "output_type": "stream",
     "text": [
      "The list of classes:  ['Duracell', 'Energizer', 'Eveready', 'Exell', 'GP', 'Ikea', 'Klarus', 'Panasonic']\n",
      "Number of errors = 0/89\n"
     ]
    }
   ],
   "source": [
    "#get the list of class labels, prediction errors and file names\n",
    "labels, errors, names = getErrors(test, predictions)\n",
    "\n",
    "#show wrongly predicted images, prediction and and the percentage (confidence)\n",
    "showErrors(labels, errors, predictions, names)"
   ]
  }
 ],
 "metadata": {
  "kernelspec": {
   "display_name": "Python 3 (ipykernel)",
   "language": "python",
   "name": "python3"
  },
  "language_info": {
   "codemirror_mode": {
    "name": "ipython",
    "version": 3
   },
   "file_extension": ".py",
   "mimetype": "text/x-python",
   "name": "python",
   "nbconvert_exporter": "python",
   "pygments_lexer": "ipython3",
   "version": "3.10.9"
  }
 },
 "nbformat": 4,
 "nbformat_minor": 4
}
