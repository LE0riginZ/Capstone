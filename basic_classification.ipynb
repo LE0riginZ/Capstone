{
 "cells": [
  {
   "cell_type": "markdown",
   "metadata": {},
   "source": [
    "<h3>Import packages</h3>"
   ]
  },
  {
   "cell_type": "code",
   "execution_count": 1,
   "metadata": {},
   "outputs": [],
   "source": [
    "from datetime import date\n",
    "from timeit import default_timer as timer\n",
    "import numpy as np\n",
    "import tensorflow as tf\n",
    "from tensorflow import keras\n",
    "from tensorflow.keras import layers\n",
    "from tensorflow.keras.layers import Dense, Activation, Dropout\n",
    "from tensorflow.keras.optimizers import Adam\n",
    "from tensorflow.keras.metrics import categorical_crossentropy\n",
    "from tensorflow.keras.preprocessing.image import ImageDataGenerator, load_img\n",
    "from tensorflow.keras.preprocessing import image\n",
    "from tensorflow.keras.models import Model, Sequential\n",
    "from tensorflow.keras.applications import imagenet_utils\n",
    "from keras.callbacks import EarlyStopping\n",
    "from sklearn.metrics import confusion_matrix, classification_report\n",
    "import itertools\n",
    "import os\n",
    "import shutil\n",
    "import random\n",
    "import matplotlib.pyplot as plt\n",
    "%matplotlib inline"
   ]
  },
  {
   "cell_type": "code",
   "execution_count": 2,
   "metadata": {},
   "outputs": [
    {
     "name": "stdout",
     "output_type": "stream",
     "text": [
      "Num GPUs Available:  1\n"
     ]
    }
   ],
   "source": [
    "#Configure TensorFlow to use GPU for training\n",
    "tf.config.list_physical_devices('GPU') \n",
    "print(\"Num GPUs Available: \", len(tf.config.list_physical_devices('GPU')))\n",
    "\n",
    "gpus = tf.config.experimental.list_physical_devices('GPU')\n",
    "#Set GPU memory limit so my GPU doesn't crash\n",
    "if gpus:\n",
    "    try:\n",
    "        for gpu in gpus:\n",
    "              tf.config.experimental.set_memory_growth(gpu, True)\n",
    "    except RuntimeError as e:\n",
    "        print(e)"
   ]
  },
  {
   "cell_type": "markdown",
   "metadata": {},
   "source": [
    "<h3>Create class to record time taken to train the model</h3>"
   ]
  },
  {
   "cell_type": "code",
   "execution_count": 3,
   "metadata": {},
   "outputs": [],
   "source": [
    "#class to record time taken to train per epoch\n",
    "class TimingCallback(keras.callbacks.Callback):\n",
    "    def __init__(self, logs={}):\n",
    "        self.logs=[]\n",
    "    def on_epoch_begin(self, epoch, logs={}):\n",
    "        self.starttime = timer()\n",
    "    def on_epoch_end(self, epoch, logs={}):\n",
    "        self.logs.append(timer()-self.starttime)\n",
    "\n",
    "cb = TimingCallback()"
   ]
  },
  {
   "cell_type": "markdown",
   "metadata": {},
   "source": [
    "<h3>Create train and test folder</h3>"
   ]
  },
  {
   "cell_type": "code",
   "execution_count": 4,
   "metadata": {},
   "outputs": [],
   "source": [
    "#creates a folder each time the set of code is run to sort dataset into train and test\n",
    "day = date.today()\n",
    "formatDate = day.strftime(\"%b-%d-%Y\")\n",
    "\n",
    "#create folder with current date to group predictions ran in a day together, if it does not exists\n",
    "if os.path.isdir('Prediction (' + formatDate + ')') is False:\n",
    "    folder = os.mkdir('Prediction (' + formatDate + ')')\n",
    "folder = 'Prediction (' + formatDate + ')'\n",
    "\n",
    "#looping through to find if destination folder exists\n",
    "i = 1\n",
    "while True:\n",
    "    if os.path.isdir(folder + '/Battery Images - ' + str(i)) is False:\n",
    "        break\n",
    "    i += 1\n",
    "\n",
    "#destination path for unsorted folder\n",
    "destination = folder + '/Battery Images - ' + str(i)\n",
    "\n",
    "#source path for unsorted folder\n",
    "# source = 'Battery Images/'\n",
    "# source = 'Battery Images [Old]/'\n",
    "# source = 'Battery Images [StreamLined]/'\n",
    "source = 'Battery Images [Download]/'\n",
    "\n",
    "#duplicate the unsorted folder from source to destination\n",
    "shutil.copytree(source, destination)\n",
    "\n",
    "os.mkdir(destination + '/train')\n",
    "os.mkdir(destination + '/test')"
   ]
  },
  {
   "cell_type": "markdown",
   "metadata": {},
   "source": [
    "<h3>Sort dataset into train and test folder</h3>"
   ]
  },
  {
   "cell_type": "code",
   "execution_count": 5,
   "metadata": {},
   "outputs": [],
   "source": [
    "#function to split images into training (80%) and testing (20%) and return both\n",
    "def split(data):\n",
    "    # num = int(len(data) * 0.8)\n",
    "    num = int(len(data) * 0.9) #90/10 split\n",
    "#     num = int(len(data) * 0.7) #70/30 split\n",
    "    random.shuffle(data)\n",
    "    return data[:num], data[num:]\n",
    "\n",
    "dir = os.chdir(destination)\n",
    "for category in os.listdir(dir):\n",
    "    #skip the iteration if folder is \"train\" or \"test\"\n",
    "    skip = ['train', 'test']\n",
    "    if category in skip:\n",
    "        continue\n",
    "    \n",
    "    shutil.move(f'{category}', 'train')\n",
    "    #create a subfolder with the same name in test\n",
    "    os.mkdir(f'test/{category}')\n",
    "\n",
    "    #get the images in each folder (battery type) for spltting of data into training and testing\n",
    "    img = os.listdir(f'train/{category}')\n",
    "    training, testing = split(img)\n",
    "    \n",
    "    for file in testing:\n",
    "        shutil.move(f'train/{category}/{file}', f'test/{category}')"
   ]
  },
  {
   "cell_type": "markdown",
   "metadata": {},
   "source": [
    "<h3>a) Simple sequential model</h3>"
   ]
  },
  {
   "cell_type": "code",
   "execution_count": 6,
   "metadata": {},
   "outputs": [
    {
     "name": "stdout",
     "output_type": "stream",
     "text": [
      "Model: \"sequential\"\n",
      "_________________________________________________________________\n",
      " Layer (type)                Output Shape              Param #   \n",
      "=================================================================\n",
      " conv2d (Conv2D)             (None, 110, 110, 32)      2432      \n",
      "                                                                 \n",
      " conv2d_1 (Conv2D)           (None, 108, 108, 32)      9248      \n",
      "                                                                 \n",
      " max_pooling2d (MaxPooling2D  (None, 36, 36, 32)       0         \n",
      " )                                                               \n",
      "                                                                 \n",
      " conv2d_2 (Conv2D)           (None, 34, 34, 32)        9248      \n",
      "                                                                 \n",
      " conv2d_3 (Conv2D)           (None, 32, 32, 32)        9248      \n",
      "                                                                 \n",
      " max_pooling2d_1 (MaxPooling  (None, 10, 10, 32)       0         \n",
      " 2D)                                                             \n",
      "                                                                 \n",
      " conv2d_4 (Conv2D)           (None, 8, 8, 32)          9248      \n",
      "                                                                 \n",
      " conv2d_5 (Conv2D)           (None, 6, 6, 32)          9248      \n",
      "                                                                 \n",
      " max_pooling2d_2 (MaxPooling  (None, 3, 3, 32)         0         \n",
      " 2D)                                                             \n",
      "                                                                 \n",
      " global_max_pooling2d (Globa  (None, 32)               0         \n",
      " lMaxPooling2D)                                                  \n",
      "                                                                 \n",
      " dense (Dense)               (None, 8)                 264       \n",
      "                                                                 \n",
      "=================================================================\n",
      "Total params: 48,936\n",
      "Trainable params: 48,936\n",
      "Non-trainable params: 0\n",
      "_________________________________________________________________\n"
     ]
    }
   ],
   "source": [
    "model = keras.Sequential()\n",
    "model.add(keras.Input(shape=(224, 224, 3)))  # 250x250 RGB images\n",
    "model.add(layers.Conv2D(32, 5, strides=2, activation=\"relu\"))\n",
    "model.add(layers.Conv2D(32, 3, activation=\"relu\"))\n",
    "model.add(layers.MaxPooling2D(3))\n",
    "model.add(layers.Conv2D(32, 3, activation=\"relu\"))\n",
    "model.add(layers.Conv2D(32, 3, activation=\"relu\"))\n",
    "model.add(layers.MaxPooling2D(3))\n",
    "model.add(layers.Conv2D(32, 3, activation=\"relu\"))\n",
    "model.add(layers.Conv2D(32, 3, activation=\"relu\"))\n",
    "model.add(layers.MaxPooling2D(2))\n",
    "model.add(layers.GlobalMaxPooling2D())\n",
    "# model.add(layers.Dense(5, activation=\"softmax\"))\n",
    "# model.add(layers.Dense(10, activation=\"softmax\")) #For 10 Cats\n",
    "model.add(layers.Dense(8, activation=\"softmax\"))\n",
    "model.summary()"
   ]
  },
  {
   "cell_type": "markdown",
   "metadata": {},
   "source": [
    "<h3>Process data</h3>"
   ]
  },
  {
   "cell_type": "code",
   "execution_count": 15,
   "metadata": {},
   "outputs": [
    {
     "name": "stdout",
     "output_type": "stream",
     "text": [
      "Found 692 images belonging to 8 classes.\n",
      "Found 73 images belonging to 8 classes.\n",
      "Found 89 images belonging to 8 classes.\n"
     ]
    }
   ],
   "source": [
    "train_path = 'train'\n",
    "test_path = 'test'\n",
    "\n",
    "#for data augmentation on training data\n",
    "datagen = ImageDataGenerator(\n",
    "    preprocessing_function=tf.keras.applications.mobilenet.preprocess_input,\n",
    "    # validation_split=0.2,\n",
    "    validation_split=0.1, #changes made for 90/10 split\n",
    "    rotation_range = 10,  # randomly rotate images in the range (degrees, 0 to 180)\n",
    "    zoom_range = 0.2, # Randomly zoom image \n",
    "    width_shift_range = 0.1,  # randomly shift images horizontally (fraction of total width)\n",
    "    height_shift_range = 0.1,  # randomly shift images vertically (fraction of total height)\n",
    "    horizontal_flip = True,  # randomly flip images\n",
    "#     vertical_flip = False,    # randomly flip images\n",
    "    vertical_flip = True, #include vertical flip for better generalisation\n",
    "    )  \n",
    "\n",
    "#takes images from directory path and generates batches of augmented data\n",
    "train = datagen.flow_from_directory(\n",
    "    directory=train_path,\n",
    "    target_size=(224, 224),\n",
    "    batch_size=32,\n",
    "    subset='training',\n",
    "        shuffle = False)\n",
    "\n",
    "#for validation data\n",
    "# validation_batches = ImageDataGenerator(preprocessing_function=tf.keras.applications.mobilenet.preprocess_input, \n",
    "#                                         validation_split=0.2)\n",
    "validation_batches = ImageDataGenerator(preprocessing_function=tf.keras.applications.mobilenet.preprocess_input, \n",
    "                                        validation_split=0.1) #changes made for 90/10 split\n",
    "\n",
    "\n",
    "validation = validation_batches.flow_from_directory(\n",
    "    directory=train_path,\n",
    "    target_size=(224, 224),\n",
    "    batch_size=32,\n",
    "    subset='validation',\n",
    "        shuffle = False)\n",
    "\n",
    "#for test data\n",
    "test = ImageDataGenerator(preprocessing_function=tf.keras.applications.mobilenet.preprocess_input)\\\n",
    ".flow_from_directory(directory=test_path, target_size=(224,224), batch_size=32, shuffle=False)"
   ]
  },
  {
   "cell_type": "markdown",
   "metadata": {},
   "source": [
    "<h3>Train model</h3>"
   ]
  },
  {
   "cell_type": "code",
   "execution_count": 19,
   "metadata": {
    "scrolled": true
   },
   "outputs": [
    {
     "name": "stdout",
     "output_type": "stream",
     "text": [
      "Epoch 1/300\n",
      "22/22 - 15s - loss: 2.0828 - accuracy: 0.1633 - val_loss: 2.0635 - val_accuracy: 0.1644 - 15s/epoch - 698ms/step\n",
      "Epoch 2/300\n",
      "22/22 - 15s - loss: 2.0693 - accuracy: 0.1633 - val_loss: 2.0620 - val_accuracy: 0.1644 - 15s/epoch - 683ms/step\n",
      "Epoch 3/300\n",
      "22/22 - 15s - loss: 2.0686 - accuracy: 0.1633 - val_loss: 2.0619 - val_accuracy: 0.1644 - 15s/epoch - 666ms/step\n",
      "Epoch 4/300\n",
      "22/22 - 15s - loss: 2.0710 - accuracy: 0.1633 - val_loss: 2.0613 - val_accuracy: 0.1644 - 15s/epoch - 662ms/step\n",
      "Epoch 5/300\n",
      "22/22 - 15s - loss: 2.0696 - accuracy: 0.1633 - val_loss: 2.0610 - val_accuracy: 0.1644 - 15s/epoch - 659ms/step\n",
      "Epoch 6/300\n",
      "22/22 - 15s - loss: 2.0679 - accuracy: 0.1633 - val_loss: 2.0612 - val_accuracy: 0.1644 - 15s/epoch - 688ms/step\n",
      "Epoch 7/300\n",
      "22/22 - 15s - loss: 2.0678 - accuracy: 0.1633 - val_loss: 2.0608 - val_accuracy: 0.1644 - 15s/epoch - 672ms/step\n",
      "Epoch 8/300\n",
      "22/22 - 15s - loss: 2.0682 - accuracy: 0.1633 - val_loss: 2.0608 - val_accuracy: 0.1644 - 15s/epoch - 675ms/step\n",
      "Epoch 9/300\n",
      "22/22 - 15s - loss: 2.0698 - accuracy: 0.1633 - val_loss: 2.0606 - val_accuracy: 0.1644 - 15s/epoch - 685ms/step\n",
      "Epoch 10/300\n",
      "22/22 - 15s - loss: 2.0663 - accuracy: 0.1633 - val_loss: 2.0602 - val_accuracy: 0.1644 - 15s/epoch - 677ms/step\n",
      "Epoch 11/300\n",
      "22/22 - 15s - loss: 2.0666 - accuracy: 0.1633 - val_loss: 2.0600 - val_accuracy: 0.1644 - 15s/epoch - 667ms/step\n",
      "Epoch 11: early stopping\n"
     ]
    }
   ],
   "source": [
    "# model.compile(optimizer=Adam(learning_rate=0.006), loss='categorical_crossentropy', metrics=['accuracy']) #Last best setting\n",
    "# model.compile(optimizer=Adam(learning_rate=0.0045), loss='categorical_crossentropy', metrics=['accuracy']) #Lower LR\n",
    "model.compile(optimizer=Adam(learning_rate=0.0075), loss='categorical_crossentropy', metrics=['accuracy']) \n",
    "checkpoint_filepath = './tmp/checkpoint'\n",
    "\n",
    "model_checkpoint_callback = tf.keras.callbacks.ModelCheckpoint(\n",
    "    filepath=checkpoint_filepath,\n",
    "    save_weights_only=True,\n",
    "    monitor='val_accuracy',\n",
    "    mode='max',\n",
    "    save_best_only=True) #save best model\n",
    "\n",
    "es = EarlyStopping(monitor='accuracy', mode='max', verbose=1, patience=10)\n",
    "\n",
    "#more epochs for better results\n",
    "result = model.fit(x=train, validation_data=validation, epochs=300, verbose=2, callbacks=[model_checkpoint_callback, cb, es])\n",
    "# result = model.fit(x=train, validation_data=validation, epochs=200, verbose=2, callbacks=[cb])\n",
    "# \n",
    "# The model weights (that are considered the best) are loaded into the\n",
    "# model.\n",
    "result = model.load_weights(checkpoint_filepath)"
   ]
  },
  {
   "cell_type": "markdown",
   "metadata": {},
   "source": [
    "<h3>Evaluate Test data</h3>"
   ]
  },
  {
   "cell_type": "code",
   "execution_count": 20,
   "metadata": {},
   "outputs": [
    {
     "name": "stdout",
     "output_type": "stream",
     "text": [
      "3.141054348666609\n",
      "3/3 [==============================] - 1s 339ms/step - loss: 2.0707 - accuracy: 0.1573\n",
      "\n",
      "Test Loss: 2.0707297325134277\n",
      "Test Accuracy: 0.15730337798595428\n",
      "\n"
     ]
    }
   ],
   "source": [
    "print(sum(cb.logs) / 150)\n",
    "\n",
    "testLoss, testAcc = model.evaluate(test)\n",
    "print('''\n",
    "Test Loss: {}\n",
    "Test Accuracy: {}\n",
    "'''.format(testLoss, testAcc))"
   ]
  },
  {
   "cell_type": "markdown",
   "metadata": {},
   "source": [
    "<h4>*Optional - Fine tune model with two-step training*</h4>"
   ]
  },
  {
   "cell_type": "code",
   "execution_count": 22,
   "metadata": {},
   "outputs": [
    {
     "name": "stdout",
     "output_type": "stream",
     "text": [
      "Epoch 1/100\n",
      "22/22 - 15s - loss: 2.0667 - accuracy: 0.1633 - val_loss: 2.0635 - val_accuracy: 0.1644 - 15s/epoch - 703ms/step\n",
      "Epoch 2/100\n",
      "22/22 - 15s - loss: 2.0667 - accuracy: 0.1633 - val_loss: 2.0635 - val_accuracy: 0.1644 - 15s/epoch - 667ms/step\n",
      "Epoch 3/100\n",
      "22/22 - 15s - loss: 2.0666 - accuracy: 0.1633 - val_loss: 2.0635 - val_accuracy: 0.1644 - 15s/epoch - 669ms/step\n",
      "Epoch 4/100\n",
      "22/22 - 15s - loss: 2.0666 - accuracy: 0.1633 - val_loss: 2.0635 - val_accuracy: 0.1644 - 15s/epoch - 676ms/step\n",
      "Epoch 5/100\n",
      "22/22 - 15s - loss: 2.0666 - accuracy: 0.1633 - val_loss: 2.0635 - val_accuracy: 0.1644 - 15s/epoch - 674ms/step\n",
      "Epoch 6/100\n",
      "22/22 - 15s - loss: 2.0666 - accuracy: 0.1633 - val_loss: 2.0634 - val_accuracy: 0.1644 - 15s/epoch - 667ms/step\n",
      "Epoch 7/100\n",
      "22/22 - 15s - loss: 2.0666 - accuracy: 0.1633 - val_loss: 2.0634 - val_accuracy: 0.1644 - 15s/epoch - 676ms/step\n",
      "Epoch 8/100\n",
      "22/22 - 14s - loss: 2.0666 - accuracy: 0.1633 - val_loss: 2.0634 - val_accuracy: 0.1644 - 14s/epoch - 655ms/step\n",
      "Epoch 9/100\n",
      "22/22 - 15s - loss: 2.0666 - accuracy: 0.1633 - val_loss: 2.0634 - val_accuracy: 0.1644 - 15s/epoch - 669ms/step\n",
      "Epoch 10/100\n",
      "22/22 - 16s - loss: 2.0666 - accuracy: 0.1633 - val_loss: 2.0634 - val_accuracy: 0.1644 - 16s/epoch - 707ms/step\n",
      "Epoch 11/100\n",
      "22/22 - 15s - loss: 2.0666 - accuracy: 0.1633 - val_loss: 2.0634 - val_accuracy: 0.1644 - 15s/epoch - 674ms/step\n",
      "Epoch 12/100\n",
      "22/22 - 15s - loss: 2.0666 - accuracy: 0.1633 - val_loss: 2.0634 - val_accuracy: 0.1644 - 15s/epoch - 687ms/step\n",
      "Epoch 13/100\n",
      "22/22 - 14s - loss: 2.0666 - accuracy: 0.1633 - val_loss: 2.0634 - val_accuracy: 0.1644 - 14s/epoch - 655ms/step\n",
      "Epoch 14/100\n",
      "22/22 - 14s - loss: 2.0666 - accuracy: 0.1633 - val_loss: 2.0634 - val_accuracy: 0.1644 - 14s/epoch - 645ms/step\n",
      "Epoch 15/100\n",
      "22/22 - 14s - loss: 2.0666 - accuracy: 0.1633 - val_loss: 2.0634 - val_accuracy: 0.1644 - 14s/epoch - 648ms/step\n",
      "Epoch 16/100\n",
      "22/22 - 14s - loss: 2.0666 - accuracy: 0.1633 - val_loss: 2.0634 - val_accuracy: 0.1644 - 14s/epoch - 646ms/step\n",
      "Epoch 17/100\n",
      "22/22 - 15s - loss: 2.0666 - accuracy: 0.1633 - val_loss: 2.0634 - val_accuracy: 0.1644 - 15s/epoch - 666ms/step\n",
      "Epoch 18/100\n",
      "22/22 - 15s - loss: 2.0666 - accuracy: 0.1633 - val_loss: 2.0634 - val_accuracy: 0.1644 - 15s/epoch - 677ms/step\n",
      "Epoch 19/100\n",
      "22/22 - 15s - loss: 2.0666 - accuracy: 0.1633 - val_loss: 2.0634 - val_accuracy: 0.1644 - 15s/epoch - 673ms/step\n",
      "Epoch 20/100\n",
      "22/22 - 15s - loss: 2.0666 - accuracy: 0.1633 - val_loss: 2.0634 - val_accuracy: 0.1644 - 15s/epoch - 676ms/step\n",
      "Epoch 21/100\n",
      "22/22 - 15s - loss: 2.0666 - accuracy: 0.1633 - val_loss: 2.0634 - val_accuracy: 0.1644 - 15s/epoch - 674ms/step\n",
      "Epoch 22/100\n",
      "22/22 - 15s - loss: 2.0666 - accuracy: 0.1633 - val_loss: 2.0634 - val_accuracy: 0.1644 - 15s/epoch - 670ms/step\n",
      "Epoch 23/100\n",
      "22/22 - 15s - loss: 2.0665 - accuracy: 0.1633 - val_loss: 2.0634 - val_accuracy: 0.1644 - 15s/epoch - 684ms/step\n",
      "Epoch 24/100\n",
      "22/22 - 15s - loss: 2.0665 - accuracy: 0.1633 - val_loss: 2.0634 - val_accuracy: 0.1644 - 15s/epoch - 671ms/step\n",
      "Epoch 25/100\n",
      "22/22 - 15s - loss: 2.0666 - accuracy: 0.1633 - val_loss: 2.0634 - val_accuracy: 0.1644 - 15s/epoch - 663ms/step\n",
      "Epoch 26/100\n",
      "22/22 - 15s - loss: 2.0665 - accuracy: 0.1633 - val_loss: 2.0634 - val_accuracy: 0.1644 - 15s/epoch - 667ms/step\n",
      "Epoch 27/100\n",
      "22/22 - 15s - loss: 2.0665 - accuracy: 0.1633 - val_loss: 2.0634 - val_accuracy: 0.1644 - 15s/epoch - 668ms/step\n",
      "Epoch 28/100\n",
      "22/22 - 15s - loss: 2.0665 - accuracy: 0.1633 - val_loss: 2.0633 - val_accuracy: 0.1644 - 15s/epoch - 664ms/step\n",
      "Epoch 29/100\n",
      "22/22 - 15s - loss: 2.0665 - accuracy: 0.1633 - val_loss: 2.0633 - val_accuracy: 0.1644 - 15s/epoch - 664ms/step\n",
      "Epoch 30/100\n",
      "22/22 - 15s - loss: 2.0665 - accuracy: 0.1633 - val_loss: 2.0633 - val_accuracy: 0.1644 - 15s/epoch - 672ms/step\n",
      "Epoch 31/100\n",
      "22/22 - 15s - loss: 2.0665 - accuracy: 0.1633 - val_loss: 2.0633 - val_accuracy: 0.1644 - 15s/epoch - 666ms/step\n",
      "Epoch 32/100\n",
      "22/22 - 14s - loss: 2.0665 - accuracy: 0.1633 - val_loss: 2.0633 - val_accuracy: 0.1644 - 14s/epoch - 655ms/step\n",
      "Epoch 33/100\n",
      "22/22 - 15s - loss: 2.0665 - accuracy: 0.1633 - val_loss: 2.0633 - val_accuracy: 0.1644 - 15s/epoch - 664ms/step\n",
      "Epoch 34/100\n",
      "22/22 - 15s - loss: 2.0665 - accuracy: 0.1633 - val_loss: 2.0633 - val_accuracy: 0.1644 - 15s/epoch - 668ms/step\n",
      "Epoch 35/100\n",
      "22/22 - 15s - loss: 2.0665 - accuracy: 0.1633 - val_loss: 2.0633 - val_accuracy: 0.1644 - 15s/epoch - 672ms/step\n",
      "Epoch 36/100\n",
      "22/22 - 15s - loss: 2.0665 - accuracy: 0.1633 - val_loss: 2.0633 - val_accuracy: 0.1644 - 15s/epoch - 665ms/step\n",
      "Epoch 37/100\n",
      "22/22 - 15s - loss: 2.0665 - accuracy: 0.1633 - val_loss: 2.0633 - val_accuracy: 0.1644 - 15s/epoch - 675ms/step\n",
      "Epoch 38/100\n",
      "22/22 - 15s - loss: 2.0665 - accuracy: 0.1633 - val_loss: 2.0633 - val_accuracy: 0.1644 - 15s/epoch - 670ms/step\n",
      "Epoch 39/100\n",
      "22/22 - 15s - loss: 2.0665 - accuracy: 0.1633 - val_loss: 2.0633 - val_accuracy: 0.1644 - 15s/epoch - 689ms/step\n",
      "Epoch 40/100\n",
      "22/22 - 15s - loss: 2.0665 - accuracy: 0.1633 - val_loss: 2.0633 - val_accuracy: 0.1644 - 15s/epoch - 677ms/step\n",
      "Epoch 41/100\n",
      "22/22 - 15s - loss: 2.0665 - accuracy: 0.1633 - val_loss: 2.0633 - val_accuracy: 0.1644 - 15s/epoch - 685ms/step\n",
      "Epoch 42/100\n",
      "22/22 - 15s - loss: 2.0665 - accuracy: 0.1633 - val_loss: 2.0633 - val_accuracy: 0.1644 - 15s/epoch - 688ms/step\n",
      "Epoch 43/100\n",
      "22/22 - 15s - loss: 2.0665 - accuracy: 0.1633 - val_loss: 2.0633 - val_accuracy: 0.1644 - 15s/epoch - 679ms/step\n",
      "Epoch 44/100\n",
      "22/22 - 15s - loss: 2.0665 - accuracy: 0.1633 - val_loss: 2.0633 - val_accuracy: 0.1644 - 15s/epoch - 677ms/step\n",
      "Epoch 45/100\n",
      "22/22 - 15s - loss: 2.0665 - accuracy: 0.1633 - val_loss: 2.0633 - val_accuracy: 0.1644 - 15s/epoch - 677ms/step\n",
      "Epoch 46/100\n",
      "22/22 - 15s - loss: 2.0665 - accuracy: 0.1633 - val_loss: 2.0633 - val_accuracy: 0.1644 - 15s/epoch - 689ms/step\n",
      "Epoch 47/100\n",
      "22/22 - 14s - loss: 2.0664 - accuracy: 0.1633 - val_loss: 2.0633 - val_accuracy: 0.1644 - 14s/epoch - 656ms/step\n",
      "Epoch 48/100\n",
      "22/22 - 15s - loss: 2.0664 - accuracy: 0.1633 - val_loss: 2.0633 - val_accuracy: 0.1644 - 15s/epoch - 665ms/step\n",
      "Epoch 49/100\n",
      "22/22 - 14s - loss: 2.0664 - accuracy: 0.1633 - val_loss: 2.0633 - val_accuracy: 0.1644 - 14s/epoch - 652ms/step\n",
      "Epoch 50/100\n",
      "22/22 - 15s - loss: 2.0664 - accuracy: 0.1633 - val_loss: 2.0633 - val_accuracy: 0.1644 - 15s/epoch - 675ms/step\n",
      "Epoch 51/100\n",
      "22/22 - 15s - loss: 2.0664 - accuracy: 0.1633 - val_loss: 2.0633 - val_accuracy: 0.1644 - 15s/epoch - 668ms/step\n",
      "Epoch 52/100\n",
      "22/22 - 15s - loss: 2.0664 - accuracy: 0.1633 - val_loss: 2.0633 - val_accuracy: 0.1644 - 15s/epoch - 667ms/step\n",
      "Epoch 53/100\n",
      "22/22 - 15s - loss: 2.0664 - accuracy: 0.1633 - val_loss: 2.0632 - val_accuracy: 0.1644 - 15s/epoch - 663ms/step\n",
      "Epoch 54/100\n",
      "22/22 - 15s - loss: 2.0664 - accuracy: 0.1633 - val_loss: 2.0632 - val_accuracy: 0.1644 - 15s/epoch - 664ms/step\n",
      "Epoch 55/100\n",
      "22/22 - 15s - loss: 2.0664 - accuracy: 0.1633 - val_loss: 2.0632 - val_accuracy: 0.1644 - 15s/epoch - 666ms/step\n",
      "Epoch 56/100\n",
      "22/22 - 15s - loss: 2.0664 - accuracy: 0.1633 - val_loss: 2.0632 - val_accuracy: 0.1644 - 15s/epoch - 665ms/step\n",
      "Epoch 57/100\n",
      "22/22 - 15s - loss: 2.0664 - accuracy: 0.1633 - val_loss: 2.0632 - val_accuracy: 0.1644 - 15s/epoch - 659ms/step\n",
      "Epoch 58/100\n",
      "22/22 - 15s - loss: 2.0664 - accuracy: 0.1633 - val_loss: 2.0632 - val_accuracy: 0.1644 - 15s/epoch - 666ms/step\n",
      "Epoch 59/100\n",
      "22/22 - 15s - loss: 2.0664 - accuracy: 0.1633 - val_loss: 2.0632 - val_accuracy: 0.1644 - 15s/epoch - 666ms/step\n",
      "Epoch 60/100\n",
      "22/22 - 15s - loss: 2.0664 - accuracy: 0.1633 - val_loss: 2.0632 - val_accuracy: 0.1644 - 15s/epoch - 660ms/step\n",
      "Epoch 61/100\n",
      "22/22 - 15s - loss: 2.0664 - accuracy: 0.1633 - val_loss: 2.0632 - val_accuracy: 0.1644 - 15s/epoch - 664ms/step\n",
      "Epoch 62/100\n",
      "22/22 - 15s - loss: 2.0664 - accuracy: 0.1633 - val_loss: 2.0632 - val_accuracy: 0.1644 - 15s/epoch - 660ms/step\n",
      "Epoch 63/100\n",
      "22/22 - 14s - loss: 2.0664 - accuracy: 0.1633 - val_loss: 2.0632 - val_accuracy: 0.1644 - 14s/epoch - 658ms/step\n",
      "Epoch 64/100\n",
      "22/22 - 15s - loss: 2.0664 - accuracy: 0.1633 - val_loss: 2.0632 - val_accuracy: 0.1644 - 15s/epoch - 666ms/step\n",
      "Epoch 65/100\n",
      "22/22 - 15s - loss: 2.0664 - accuracy: 0.1633 - val_loss: 2.0632 - val_accuracy: 0.1644 - 15s/epoch - 666ms/step\n",
      "Epoch 66/100\n",
      "22/22 - 15s - loss: 2.0664 - accuracy: 0.1633 - val_loss: 2.0632 - val_accuracy: 0.1644 - 15s/epoch - 668ms/step\n",
      "Epoch 67/100\n",
      "22/22 - 15s - loss: 2.0664 - accuracy: 0.1633 - val_loss: 2.0632 - val_accuracy: 0.1644 - 15s/epoch - 663ms/step\n",
      "Epoch 68/100\n",
      "22/22 - 15s - loss: 2.0664 - accuracy: 0.1633 - val_loss: 2.0632 - val_accuracy: 0.1644 - 15s/epoch - 664ms/step\n",
      "Epoch 69/100\n",
      "22/22 - 15s - loss: 2.0664 - accuracy: 0.1633 - val_loss: 2.0632 - val_accuracy: 0.1644 - 15s/epoch - 666ms/step\n",
      "Epoch 70/100\n",
      "22/22 - 15s - loss: 2.0664 - accuracy: 0.1633 - val_loss: 2.0632 - val_accuracy: 0.1644 - 15s/epoch - 667ms/step\n",
      "Epoch 71/100\n",
      "22/22 - 15s - loss: 2.0664 - accuracy: 0.1633 - val_loss: 2.0632 - val_accuracy: 0.1644 - 15s/epoch - 662ms/step\n",
      "Epoch 72/100\n",
      "22/22 - 15s - loss: 2.0664 - accuracy: 0.1633 - val_loss: 2.0632 - val_accuracy: 0.1644 - 15s/epoch - 665ms/step\n",
      "Epoch 73/100\n",
      "22/22 - 14s - loss: 2.0663 - accuracy: 0.1633 - val_loss: 2.0632 - val_accuracy: 0.1644 - 14s/epoch - 658ms/step\n",
      "Epoch 74/100\n",
      "22/22 - 15s - loss: 2.0663 - accuracy: 0.1633 - val_loss: 2.0632 - val_accuracy: 0.1644 - 15s/epoch - 704ms/step\n",
      "Epoch 75/100\n",
      "22/22 - 15s - loss: 2.0663 - accuracy: 0.1633 - val_loss: 2.0632 - val_accuracy: 0.1644 - 15s/epoch - 662ms/step\n",
      "Epoch 76/100\n",
      "22/22 - 15s - loss: 2.0663 - accuracy: 0.1633 - val_loss: 2.0632 - val_accuracy: 0.1644 - 15s/epoch - 676ms/step\n",
      "Epoch 77/100\n",
      "22/22 - 15s - loss: 2.0663 - accuracy: 0.1633 - val_loss: 2.0631 - val_accuracy: 0.1644 - 15s/epoch - 665ms/step\n",
      "Epoch 78/100\n",
      "22/22 - 15s - loss: 2.0663 - accuracy: 0.1633 - val_loss: 2.0631 - val_accuracy: 0.1644 - 15s/epoch - 664ms/step\n",
      "Epoch 79/100\n",
      "22/22 - 15s - loss: 2.0663 - accuracy: 0.1633 - val_loss: 2.0631 - val_accuracy: 0.1644 - 15s/epoch - 671ms/step\n",
      "Epoch 80/100\n",
      "22/22 - 14s - loss: 2.0663 - accuracy: 0.1633 - val_loss: 2.0631 - val_accuracy: 0.1644 - 14s/epoch - 649ms/step\n",
      "Epoch 81/100\n",
      "22/22 - 15s - loss: 2.0663 - accuracy: 0.1633 - val_loss: 2.0631 - val_accuracy: 0.1644 - 15s/epoch - 662ms/step\n",
      "Epoch 82/100\n",
      "22/22 - 15s - loss: 2.0663 - accuracy: 0.1633 - val_loss: 2.0631 - val_accuracy: 0.1644 - 15s/epoch - 670ms/step\n",
      "Epoch 83/100\n",
      "22/22 - 14s - loss: 2.0663 - accuracy: 0.1633 - val_loss: 2.0631 - val_accuracy: 0.1644 - 14s/epoch - 659ms/step\n",
      "Epoch 84/100\n",
      "22/22 - 15s - loss: 2.0663 - accuracy: 0.1633 - val_loss: 2.0631 - val_accuracy: 0.1644 - 15s/epoch - 672ms/step\n",
      "Epoch 85/100\n",
      "22/22 - 15s - loss: 2.0663 - accuracy: 0.1633 - val_loss: 2.0631 - val_accuracy: 0.1644 - 15s/epoch - 664ms/step\n",
      "Epoch 86/100\n",
      "22/22 - 15s - loss: 2.0663 - accuracy: 0.1633 - val_loss: 2.0631 - val_accuracy: 0.1644 - 15s/epoch - 664ms/step\n",
      "Epoch 87/100\n",
      "22/22 - 15s - loss: 2.0663 - accuracy: 0.1633 - val_loss: 2.0631 - val_accuracy: 0.1644 - 15s/epoch - 667ms/step\n",
      "Epoch 88/100\n",
      "22/22 - 15s - loss: 2.0663 - accuracy: 0.1633 - val_loss: 2.0631 - val_accuracy: 0.1644 - 15s/epoch - 673ms/step\n",
      "Epoch 89/100\n",
      "22/22 - 15s - loss: 2.0663 - accuracy: 0.1633 - val_loss: 2.0631 - val_accuracy: 0.1644 - 15s/epoch - 694ms/step\n",
      "Epoch 90/100\n",
      "22/22 - 15s - loss: 2.0663 - accuracy: 0.1633 - val_loss: 2.0631 - val_accuracy: 0.1644 - 15s/epoch - 677ms/step\n",
      "Epoch 91/100\n",
      "22/22 - 14s - loss: 2.0663 - accuracy: 0.1633 - val_loss: 2.0631 - val_accuracy: 0.1644 - 14s/epoch - 653ms/step\n",
      "Epoch 92/100\n",
      "22/22 - 15s - loss: 2.0663 - accuracy: 0.1633 - val_loss: 2.0631 - val_accuracy: 0.1644 - 15s/epoch - 662ms/step\n",
      "Epoch 93/100\n",
      "22/22 - 15s - loss: 2.0663 - accuracy: 0.1633 - val_loss: 2.0631 - val_accuracy: 0.1644 - 15s/epoch - 676ms/step\n",
      "Epoch 94/100\n",
      "22/22 - 14s - loss: 2.0662 - accuracy: 0.1633 - val_loss: 2.0631 - val_accuracy: 0.1644 - 14s/epoch - 649ms/step\n",
      "Epoch 95/100\n",
      "22/22 - 14s - loss: 2.0663 - accuracy: 0.1633 - val_loss: 2.0631 - val_accuracy: 0.1644 - 14s/epoch - 653ms/step\n",
      "Epoch 96/100\n",
      "22/22 - 15s - loss: 2.0663 - accuracy: 0.1633 - val_loss: 2.0631 - val_accuracy: 0.1644 - 15s/epoch - 677ms/step\n",
      "Epoch 97/100\n",
      "22/22 - 15s - loss: 2.0663 - accuracy: 0.1633 - val_loss: 2.0631 - val_accuracy: 0.1644 - 15s/epoch - 686ms/step\n",
      "Epoch 98/100\n",
      "22/22 - 15s - loss: 2.0663 - accuracy: 0.1633 - val_loss: 2.0631 - val_accuracy: 0.1644 - 15s/epoch - 669ms/step\n",
      "Epoch 99/100\n",
      "22/22 - 15s - loss: 2.0662 - accuracy: 0.1633 - val_loss: 2.0631 - val_accuracy: 0.1644 - 15s/epoch - 680ms/step\n",
      "Epoch 100/100\n",
      "22/22 - 15s - loss: 2.0662 - accuracy: 0.1633 - val_loss: 2.0631 - val_accuracy: 0.1644 - 15s/epoch - 681ms/step\n"
     ]
    }
   ],
   "source": [
    "es = EarlyStopping(monitor='val_loss', mode='min', verbose=1, patience=10)\n",
    "  \n",
    "#re-train the model at a very low learning rate\n",
    "model.compile(optimizer=Adam(learning_rate=0.00006), loss='categorical_crossentropy', metrics=['accuracy'])\n",
    "\n",
    "result = model.fit(x=train, validation_data=validation, epochs=100, verbose=2, callbacks=[cb, es])\n"
   ]
  },
  {
   "cell_type": "markdown",
   "metadata": {},
   "source": [
    "<h3>Accuracy and Loss graph</h3>"
   ]
  },
  {
   "cell_type": "code",
   "execution_count": 23,
   "metadata": {},
   "outputs": [
    {
     "data": {
      "image/png": "[encoded data removed]",
      "text/plain": [
       "<Figure size 640x480 with 1 Axes>"
      ]
     },
     "metadata": {},
     "output_type": "display_data"
    },
    {
     "data": {
      "image/png": "[encoded data removed]",
      "text/plain": [
       "<Figure size 640x480 with 1 Axes>"
      ]
     },
     "metadata": {},
     "output_type": "display_data"
    }
   ],
   "source": [
    "#accuracy\n",
    "plt.plot(result.history['accuracy'])\n",
    "plt.plot(result.history['val_accuracy'])\n",
    "plt.title('model accuracy')\n",
    "plt.ylabel('accuracy')\n",
    "plt.xlabel('epoch')\n",
    "plt.legend(['Train', 'Validation'], loc='lower right')\n",
    "plt.show()\n",
    "\n",
    "#loss\n",
    "plt.plot(result.history['loss'])\n",
    "plt.plot(result.history['val_loss'])\n",
    "plt.title('model loss')\n",
    "plt.ylabel('loss')\n",
    "plt.xlabel('epoch')\n",
    "plt.legend(['Train', 'Validation'], loc='upper right')\n",
    "plt.show()"
   ]
  },
  {
   "cell_type": "markdown",
   "metadata": {},
   "source": [
    "<h3>Classification report</h3>"
   ]
  },
  {
   "cell_type": "code",
   "execution_count": 24,
   "metadata": {
    "scrolled": true
   },
   "outputs": [
    {
     "name": "stdout",
     "output_type": "stream",
     "text": [
      "              precision    recall  f1-score   support\n",
      "\n",
      "    Duracell       0.16      1.00      0.27        14\n",
      "   Energizer       0.00      0.00      0.00        14\n",
      "    Eveready       0.00      0.00      0.00        10\n",
      "       Exell       0.00      0.00      0.00         9\n",
      "          GP       0.00      0.00      0.00        12\n",
      "        Ikea       0.00      0.00      0.00         9\n",
      "      Klarus       0.00      0.00      0.00        11\n",
      "   Panasonic       0.00      0.00      0.00        10\n",
      "\n",
      "    accuracy                           0.16        89\n",
      "   macro avg       0.02      0.12      0.03        89\n",
      "weighted avg       0.02      0.16      0.04        89\n",
      "\n"
     ]
    },
    {
     "name": "stderr",
     "output_type": "stream",
     "text": [
      "c:\\Users\\ngden\\anaconda3\\lib\\site-packages\\sklearn\\metrics\\_classification.py:1344: UndefinedMetricWarning: Precision and F-score are ill-defined and being set to 0.0 in labels with no predicted samples. Use `zero_division` parameter to control this behavior.\n",
      "  _warn_prf(average, modifier, msg_start, len(result))\n",
      "c:\\Users\\ngden\\anaconda3\\lib\\site-packages\\sklearn\\metrics\\_classification.py:1344: UndefinedMetricWarning: Precision and F-score are ill-defined and being set to 0.0 in labels with no predicted samples. Use `zero_division` parameter to control this behavior.\n",
      "  _warn_prf(average, modifier, msg_start, len(result))\n",
      "c:\\Users\\ngden\\anaconda3\\lib\\site-packages\\sklearn\\metrics\\_classification.py:1344: UndefinedMetricWarning: Precision and F-score are ill-defined and being set to 0.0 in labels with no predicted samples. Use `zero_division` parameter to control this behavior.\n",
      "  _warn_prf(average, modifier, msg_start, len(result))\n"
     ]
    }
   ],
   "source": [
    "predictions = model.predict(test, verbose=0)\n",
    "# predictions = predictions.reshape(1,-1)[0]\n",
    "lst = np.argmax(predictions, axis= 1)\n",
    "\n",
    "print(classification_report(test.classes, lst, target_names = test.class_indices))"
   ]
  },
  {
   "cell_type": "markdown",
   "metadata": {},
   "source": [
    "<h3>Confusion matrix</h3>"
   ]
  },
  {
   "cell_type": "code",
   "execution_count": 25,
   "metadata": {},
   "outputs": [
    {
     "name": "stdout",
     "output_type": "stream",
     "text": [
      "[[14  0  0  0  0  0  0  0]\n",
      " [14  0  0  0  0  0  0  0]\n",
      " [10  0  0  0  0  0  0  0]\n",
      " [ 9  0  0  0  0  0  0  0]\n",
      " [12  0  0  0  0  0  0  0]\n",
      " [ 9  0  0  0  0  0  0  0]\n",
      " [11  0  0  0  0  0  0  0]\n",
      " [10  0  0  0  0  0  0  0]]\n"
     ]
    },
    {
     "data": {
      "image/png": "[encoded data removed]",
      "text/plain": [
       "<Figure size 700x700 with 2 Axes>"
      ]
     },
     "metadata": {},
     "output_type": "display_data"
    }
   ],
   "source": [
    "result = confusion_matrix(test.classes, lst)\n",
    "print(result)\n",
    "\n",
    "def plot_confusion_matrix(result, classes, cmap=plt.cm.Blues):\n",
    "    plt.subplots(figsize=(7, 7))\n",
    "    plt.imshow(result, interpolation='nearest', cmap=cmap)\n",
    "    plt.title('Confusion matrix')\n",
    "    plt.colorbar()\n",
    "    tick_marks = np.arange(len(classes))\n",
    "    plt.xticks(tick_marks, classes, rotation = 90)\n",
    "    plt.yticks(tick_marks, classes)\n",
    "    plt.ylabel('True label')\n",
    "    plt.xlabel('Predicted label')\n",
    "   \n",
    "\n",
    "    thresh = result.max() / 2.\n",
    "    for i, j in itertools.product(range(result.shape[0]), range(result.shape[1])):\n",
    "        plt.text(j, i, result[i, j],\n",
    "            horizontalalignment=\"center\",\n",
    "            color = \"white\" if result[i, j] > thresh else \"black\")\n",
    "        \n",
    "    #current matplotlib version will cut off top and bottom of the matrix, \n",
    "    #hence the manual workaround - remove if matplotlib version does not cut off\n",
    "    b, t = plt.ylim() # discover bottom and top values\n",
    "    b += 0.5 # Add 0.5 to bottom\n",
    "    t -= 0.5 # Subtract 0.5 from top\n",
    "    plt.ylim(b, t) # update ylim(bottom, top) values\n",
    "    plt.show()\n",
    "    \n",
    "plot_confusion_matrix(result, list(test.class_indices.keys()))"
   ]
  },
  {
   "cell_type": "markdown",
   "metadata": {},
   "source": [
    "<h3>Labels of wrong predictions</h3>"
   ]
  },
  {
   "cell_type": "code",
   "execution_count": 27,
   "metadata": {},
   "outputs": [],
   "source": [
    "def getErrors(test, predictions):\n",
    "    #get file names of all images in test data\n",
    "    names = test.filenames\n",
    "\n",
    "    #get IDs of all classes\n",
    "    allClassesID = test.classes\n",
    "\n",
    "    #get dictionary of classes and respective ID\n",
    "    classLabelDict = test.class_indices\n",
    "    \n",
    "    #list of the names of all classes\n",
    "    classLabels = list(classLabelDict.keys())\n",
    "\n",
    "    print(\"The list of classes: \", classLabels)\n",
    "\n",
    "    #get the most predicted class\n",
    "    predictedClasses = np.argmax(predictions, axis=1)\n",
    "\n",
    "    predictedErrors = np.where(predictedClasses != allClassesID)[0]\n",
    "\n",
    "    print(\"Number of errors = {}/{}\".format(len(predictedErrors),test.samples))\n",
    "\n",
    "    return classLabels, predictedErrors, names\n",
    "\n",
    "def showErrors(classLabels, predictedErrors, predictions, names):\n",
    "    # Show the errors\n",
    "    for i in range(len(errors)):\n",
    "        predictedClass = np.argmax(predictions[predictedErrors[i]])\n",
    "\n",
    "        predictedLabel = classLabels[predictedClass]\n",
    "\n",
    "        title = 'Original Picture : {}, Prediction : {}, Confidence/Percentage : {:.3f}'.format\\\n",
    "                (names[predictedErrors[i]].split('/')[0],predictedLabel, predictions[errors[i]][predictedClass])\n",
    "        print(title)"
   ]
  },
  {
   "cell_type": "code",
   "execution_count": 28,
   "metadata": {},
   "outputs": [
    {
     "name": "stdout",
     "output_type": "stream",
     "text": [
      "The list of classes:  ['Duracell', 'Energizer', 'Eveready', 'Exell', 'GP', 'Ikea', 'Klarus', 'Panasonic']\n",
      "Number of errors = 75/89\n",
      "Original Picture : Energizer\\13.jpeg, Prediction : Duracell, Confidence/Percentage : 0.185\n",
      "Original Picture : Energizer\\21.jpg, Prediction : Duracell, Confidence/Percentage : 0.185\n",
      "Original Picture : Energizer\\25.jpg, Prediction : Duracell, Confidence/Percentage : 0.185\n",
      "Original Picture : Energizer\\5.jpeg, Prediction : Duracell, Confidence/Percentage : 0.185\n",
      "Original Picture : Energizer\\9 (2).jpeg, Prediction : Duracell, Confidence/Percentage : 0.185\n",
      "Original Picture : Energizer\\Alkaline-24.jpg, Prediction : Duracell, Confidence/Percentage : 0.185\n",
      "Original Picture : Energizer\\EnergizerAAA.jpg, Prediction : Duracell, Confidence/Percentage : 0.185\n",
      "Original Picture : Energizer\\Image_15.jpg, Prediction : Duracell, Confidence/Percentage : 0.185\n",
      "Original Picture : Energizer\\Image_27.jpg, Prediction : Duracell, Confidence/Percentage : 0.185\n",
      "Original Picture : Energizer\\Image_38.jpg, Prediction : Duracell, Confidence/Percentage : 0.185\n",
      "Original Picture : Energizer\\Image_60.jpg, Prediction : Duracell, Confidence/Percentage : 0.185\n",
      "Original Picture : Energizer\\Image_61.jpg, Prediction : Duracell, Confidence/Percentage : 0.185\n",
      "Original Picture : Energizer\\Image_69.jpg, Prediction : Duracell, Confidence/Percentage : 0.185\n",
      "Original Picture : Energizer\\Image_9.jpg, Prediction : Duracell, Confidence/Percentage : 0.185\n",
      "Original Picture : Eveready\\1 (2).jpeg, Prediction : Duracell, Confidence/Percentage : 0.185\n",
      "Original Picture : Eveready\\20170823163749EYASKEQICRREB_340.jpg, Prediction : Duracell, Confidence/Percentage : 0.185\n",
      "Original Picture : Eveready\\Image_31.jpg, Prediction : Duracell, Confidence/Percentage : 0.185\n",
      "Original Picture : Eveready\\Image_49.jpg, Prediction : Duracell, Confidence/Percentage : 0.185\n",
      "Original Picture : Eveready\\Image_52.jpg, Prediction : Duracell, Confidence/Percentage : 0.185\n",
      "Original Picture : Eveready\\Image_54.jpg, Prediction : Duracell, Confidence/Percentage : 0.185\n",
      "Original Picture : Eveready\\eveready-super-heavy-duty-1_default@2x.jpg, Prediction : Duracell, Confidence/Percentage : 0.185\n",
      "Original Picture : Eveready\\fe29ce619aed3dd8655a4301ce009613.jpg, Prediction : Duracell, Confidence/Percentage : 0.185\n",
      "Original Picture : Eveready\\images.jpg, Prediction : Duracell, Confidence/Percentage : 0.185\n",
      "Original Picture : Eveready\\tester5.jpg, Prediction : Duracell, Confidence/Percentage : 0.185\n",
      "Original Picture : Exell\\17.jpeg, Prediction : Duracell, Confidence/Percentage : 0.185\n",
      "Original Picture : Exell\\27.jpg, Prediction : Duracell, Confidence/Percentage : 0.185\n",
      "Original Picture : Exell\\29.jpg, Prediction : Duracell, Confidence/Percentage : 0.185\n",
      "Original Picture : Exell\\30.jpg, Prediction : Duracell, Confidence/Percentage : 0.185\n",
      "Original Picture : Exell\\4.jpg, Prediction : Duracell, Confidence/Percentage : 0.185\n",
      "Original Picture : Exell\\46.jpg, Prediction : Duracell, Confidence/Percentage : 0.185\n",
      "Original Picture : Exell\\52.jpg, Prediction : Duracell, Confidence/Percentage : 0.185\n",
      "Original Picture : Exell\\Image_26.jpg, Prediction : Duracell, Confidence/Percentage : 0.185\n",
      "Original Picture : Exell\\Image_3.jpg, Prediction : Duracell, Confidence/Percentage : 0.185\n",
      "Original Picture : GP\\61m6GQ3ObXL._AC_UF894,1000_QL80_.jpg, Prediction : Duracell, Confidence/Percentage : 0.185\n",
      "Original Picture : GP\\98df7d7fc9e4124c4b6b651707ae436e.jpg, Prediction : Duracell, Confidence/Percentage : 0.185\n",
      "Original Picture : GP\\9d4010b8-4047-4e5a-bc07-be0aca58ccea_1.094afa6d44f180aac038afafea59ca6a.jpg, Prediction : Duracell, Confidence/Percentage : 0.185\n",
      "Original Picture : GP\\Alkaline-12.jpg, Prediction : Duracell, Confidence/Percentage : 0.185\n",
      "Original Picture : GP\\Image_28.jpg, Prediction : Duracell, Confidence/Percentage : 0.185\n",
      "Original Picture : GP\\Image_33.jpg, Prediction : Duracell, Confidence/Percentage : 0.185\n",
      "Original Picture : GP\\Image_48.jpg, Prediction : Duracell, Confidence/Percentage : 0.185\n",
      "Original Picture : GP\\Image_58.jpg, Prediction : Duracell, Confidence/Percentage : 0.185\n",
      "Original Picture : GP\\battery-gp-ultra-plus-aaa.jpg, Prediction : Duracell, Confidence/Percentage : 0.185\n",
      "Original Picture : GP\\e20dd0f6262f7130a366687da995e21b.jpg, Prediction : Duracell, Confidence/Percentage : 0.185\n",
      "Original Picture : GP\\gp-batteries-super-lady-lr-1-batteries.jpg, Prediction : Duracell, Confidence/Percentage : 0.185\n",
      "Original Picture : GP\\gpimages.jpeg, Prediction : Duracell, Confidence/Percentage : 0.185\n",
      "Original Picture : Ikea\\8b8f386d6459e75d730daea1f275c3ae.jpg, Prediction : Duracell, Confidence/Percentage : 0.185\n",
      "Original Picture : Ikea\\9eaf4fc8c5e3c7b7c8d4de0ba796a1ad.jpg, Prediction : Duracell, Confidence/Percentage : 0.185\n",
      "Original Picture : Ikea\\DSC_1778.jpg, Prediction : Duracell, Confidence/Percentage : 0.185\n",
      "Original Picture : Ikea\\IT19638-0070-00-front-615x461.jpg, Prediction : Duracell, Confidence/Percentage : 0.185\n",
      "Original Picture : Ikea\\Image_21.jpg, Prediction : Duracell, Confidence/Percentage : 0.185\n",
      "Original Picture : Ikea\\Image_26.JPG, Prediction : Duracell, Confidence/Percentage : 0.185\n",
      "Original Picture : Ikea\\b6d407cefe219c0fb28b671f36d23098.jpg, Prediction : Duracell, Confidence/Percentage : 0.185\n",
      "Original Picture : Ikea\\d6b6996cac3eed0460baec2c026d7169.jpg, Prediction : Duracell, Confidence/Percentage : 0.185\n",
      "Original Picture : Ikea\\s-l400.jpg, Prediction : Duracell, Confidence/Percentage : 0.185\n",
      "Original Picture : Klarus\\10.png, Prediction : Duracell, Confidence/Percentage : 0.185\n",
      "Original Picture : Klarus\\21.jpg, Prediction : Duracell, Confidence/Percentage : 0.185\n",
      "Original Picture : Klarus\\28.jpg, Prediction : Duracell, Confidence/Percentage : 0.185\n",
      "Original Picture : Klarus\\3.jpg, Prediction : Duracell, Confidence/Percentage : 0.185\n",
      "Original Picture : Klarus\\39.jpg, Prediction : Duracell, Confidence/Percentage : 0.185\n",
      "Original Picture : Klarus\\47.jpg, Prediction : Duracell, Confidence/Percentage : 0.185\n",
      "Original Picture : Klarus\\Image_19.jpeg, Prediction : Duracell, Confidence/Percentage : 0.185\n",
      "Original Picture : Klarus\\Image_29.jpg, Prediction : Duracell, Confidence/Percentage : 0.185\n",
      "Original Picture : Klarus\\Image_36.png, Prediction : Duracell, Confidence/Percentage : 0.185\n",
      "Original Picture : Klarus\\Image_38.jpg, Prediction : Duracell, Confidence/Percentage : 0.185\n",
      "Original Picture : Klarus\\Image_39.png, Prediction : Duracell, Confidence/Percentage : 0.185\n",
      "Original Picture : Panasonic\\10.jpg, Prediction : Duracell, Confidence/Percentage : 0.185\n",
      "Original Picture : Panasonic\\11.jpeg, Prediction : Duracell, Confidence/Percentage : 0.185\n",
      "Original Picture : Panasonic\\12.jpg, Prediction : Duracell, Confidence/Percentage : 0.185\n",
      "Original Picture : Panasonic\\13.jpg, Prediction : Duracell, Confidence/Percentage : 0.185\n",
      "Original Picture : Panasonic\\18.jpg, Prediction : Duracell, Confidence/Percentage : 0.185\n",
      "Original Picture : Panasonic\\2.jpeg, Prediction : Duracell, Confidence/Percentage : 0.185\n",
      "Original Picture : Panasonic\\21.jpg, Prediction : Duracell, Confidence/Percentage : 0.185\n",
      "Original Picture : Panasonic\\33.jpg, Prediction : Duracell, Confidence/Percentage : 0.185\n",
      "Original Picture : Panasonic\\6.jpg, Prediction : Duracell, Confidence/Percentage : 0.185\n",
      "Original Picture : Panasonic\\Image_35.jpg, Prediction : Duracell, Confidence/Percentage : 0.185\n"
     ]
    }
   ],
   "source": [
    "#get the list of class labels, prediction errors and file names\n",
    "labels, errors, names = getErrors(test, predictions)\n",
    "\n",
    "#show wrongly predicted images, prediction and and the percentage (confidence)\n",
    "showErrors(labels, errors, predictions, names)"
   ]
  },
  {
   "cell_type": "markdown",
   "metadata": {},
   "source": [
    "<h3>Save the model</h3>"
   ]
  },
  {
   "cell_type": "code",
   "execution_count": null,
   "metadata": {},
   "outputs": [],
   "source": [
    "#change the directory back to initial path (Image Classification folder)\n",
    "os.chdir(\"../..\")\n",
    "# os.listdir()\n",
    "\n",
    "#save the model so that it can be passed to edge device\n",
    "model.save(\"image_classification.h5\")"
   ]
  }
 ],
 "metadata": {
  "kernelspec": {
   "display_name": "Python 3 (ipykernel)",
   "language": "python",
   "name": "python3"
  },
  "language_info": {
   "codemirror_mode": {
    "name": "ipython",
    "version": 3
   },
   "file_extension": ".py",
   "mimetype": "text/x-python",
   "name": "python",
   "nbconvert_exporter": "python",
   "pygments_lexer": "ipython3",
   "version": "3.10.9"
  }
 },
 "nbformat": 4,
 "nbformat_minor": 4
}
